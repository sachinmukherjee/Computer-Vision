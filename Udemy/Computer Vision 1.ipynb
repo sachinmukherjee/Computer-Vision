{
 "cells": [
  {
   "cell_type": "markdown",
   "metadata": {},
   "source": [
    "# Computer Vision"
   ]
  },
  {
   "cell_type": "markdown",
   "metadata": {},
   "source": [
    "An image is represented as a matrix of pixels where each pixel in a matrix represents an intensity at particular point in image. Colours in an image is either rgb(red, blue, green) or grayscale"
   ]
  },
  {
   "cell_type": "code",
   "execution_count": 1,
   "metadata": {
    "collapsed": true
   },
   "outputs": [],
   "source": [
    " import cv2\n",
    " import numpy as np\n"
   ]
  },
  {
   "cell_type": "markdown",
   "metadata": {},
   "source": [
    "### Reading Image"
   ]
  },
  {
   "cell_type": "code",
   "execution_count": 2,
   "metadata": {
    "collapsed": true
   },
   "outputs": [],
   "source": [
    "img = cv2.imread('original.png',1)\n",
    "cv2.imshow('Original', img)\n",
    "cv2.waitKey(0)\n",
    "cv2.destroyAllWindows()\n",
    "\n",
    "# Here 1 means rgb image and 0 means grayscale\n",
    "# waitKey() specifies that show the image untill users kill the program\n",
    "# destroyAllWindows specifies that distroy all the window when program kills"
   ]
  },
  {
   "cell_type": "markdown",
   "metadata": {},
   "source": [
    "### Writing Image to other format"
   ]
  },
  {
   "cell_type": "code",
   "execution_count": 2,
   "metadata": {
    "collapsed": true
   },
   "outputs": [],
   "source": [
    "img = cv2.imread('original.png')\n",
    "img = cv2.imwrite('converted.jpg', img)\n",
    "cv2.imshow('Original', img)\n",
    "cv2.waitKey(0)\n",
    "cv2.destroyAllWindows()\n",
    "\n",
    "#imwrite writes the file into current working directory\n",
    "# imshow shows the written image\n"
   ]
  },
  {
   "cell_type": "markdown",
   "metadata": {
    "collapsed": true
   },
   "source": [
    "### Drawing"
   ]
  },
  {
   "cell_type": "markdown",
   "metadata": {
    "collapsed": true
   },
   "source": [
    "* Define the dimension of the image\n",
    "* Create image with numpy array\n",
    "* Create black background by filling the array with zeros\n",
    "* Implement drawing function"
   ]
  },
  {
   "cell_type": "code",
   "execution_count": 1,
   "metadata": {},
   "outputs": [],
   "source": [
    "## Creating Rectange\n",
    "import cv2\n",
    "import numpy as np\n",
    "\n",
    "pic = np.zeros((500,500,3), dtype='uint8')   # here 500, 500 means pixels and 3 means rgb and dtype means data type of int\n",
    "cv2.rectangle(pic,(0,0), (500, 500), (123, 90, 90),3, lineType=8, shift=0)\n",
    "cv2.imshow('dark', pic)\n",
    "cv2.waitKey(0)\n",
    "cv2.destroyAllWindows()"
   ]
  },
  {
   "cell_type": "code",
   "execution_count": null,
   "metadata": {
    "collapsed": true
   },
   "outputs": [],
   "source": []
  }
 ],
 "metadata": {
  "kernelspec": {
   "display_name": "Python 2",
   "language": "python",
   "name": "python2"
  },
  "language_info": {
   "codemirror_mode": {
    "name": "ipython",
    "version": 2
   },
   "file_extension": ".py",
   "mimetype": "text/x-python",
   "name": "python",
   "nbconvert_exporter": "python",
   "pygments_lexer": "ipython2",
   "version": "2.7.12"
  }
 },
 "nbformat": 4,
 "nbformat_minor": 2
}
